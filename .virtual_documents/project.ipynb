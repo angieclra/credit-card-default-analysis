# Initialize Otter
import otter
grader = otter.Notebook("hw5.ipynb")


import os

get_ipython().run_line_magic("matplotlib", " inline")
import string
import sys

import matplotlib.pyplot as plt
import numpy as np
import pandas as pd


credit_df = pd.read_csv("data/credit_card.csv")
credit_df


X = credit_df.drop(columns=["default.payment.next.month"])
y = credit_df["default.payment.next.month"]


from sklearn.model_selection import train_test_split

train_df, test_df = train_test_split(credit_df, test_size = 0.30, random_state=123)
X_train, y_train = (
    train_df.drop(columns=["default.payment.next.month"]),
    train_df["default.payment.next.month"],
)
X_test, y_test = (
    test_df.drop(columns=["default.payment.next.month"]),
    test_df["default.payment.next.month"],
)


train_df.head()


train_df.info()


train_df.describe()


credit_plot = train_df.drop(columns = ["ID", "SEX", "EDUCATION", "MARRIAGE", "PAY_0", "PAY_2", "PAY_3", "PAY_4", "PAY_5", "PAY_6", "default.payment.next.month"])

for column in credit_plot:
    feat = column
    ax = train_df.groupby("default.payment.next.month")[feat].plot.hist(bins=50, alpha=0.5, legend=True)
    plt.xlabel(feat)
    plt.title("Histogram of " + feat)
    plt.show()





from IPython.display import Image

Image("img/eva-well-done.png")
